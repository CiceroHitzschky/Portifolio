{
  "nbformat": 4,
  "nbformat_minor": 0,
  "metadata": {
    "colab": {
      "provenance": []
    },
    "kernelspec": {
      "name": "python3",
      "display_name": "Python 3"
    },
    "language_info": {
      "name": "python"
    }
  },
  "cells": [
    {
      "cell_type": "markdown",
      "source": [
        "# Análise de Dados Financeiros\n",
        "## O que é um \"Unicórnio\"?\n",
        "\"Unicórnio\" é um termo usado na indústria de capital de risco para descrever uma startup de capital fechado com valor superior a US$ 1 bilhão. O termo foi popularizado pela primeira vez pela capitalista de risco Aileen Lee, fundadora da Cowboy Ventures, um fundo de capital de risco com sede em Palo Alto, Califórnia.\n",
        "\n",
        "Unicórnios também podem se referir a um fenômeno de recrutamento no setor de recursos humanos (RH). Os gerentes de RH podem ter grandes expectativas para preencher um cargo, levando-os a procurar candidatos com qualificações superiores às exigidas para um cargo específico. Em essência, esses gerentes estão procurando um unicórnio, o que leva a uma desconexão entre seu candidato ideal e quem eles podem contratar do grupo de pessoas disponíveis.\n",
        "\n",
        "São exemplos de startups unicónios: MadeiraMadeira, Hotmart, Mercado Bitcoin , Unico, Frete.com, CloudWalk, Nuvemshop, Daki, Facily e Olist.\n",
        "\n",
        "link da Base de Dados: https://www.kaggle.com/datasets/ramjasmaurya/unicorn-startups\n"
      ],
      "metadata": {
        "id": "l6jcQbkCuKGC"
      }
    },
    {
      "cell_type": "code",
      "source": [
        "# Importando as libs\n",
        "import pandas as pd\n",
        "import matplotlib.pyplot as plt\n",
        "import seaborn as sns"
      ],
      "metadata": {
        "id": "7-uokz-xu6XM"
      },
      "execution_count": 175,
      "outputs": []
    },
    {
      "cell_type": "code",
      "source": [
        "# Lendo a base de dados\n",
        "df = pd.read_csv('/content/unicorns till sep 2022.csv')\n",
        "display(df)"
      ],
      "metadata": {
        "colab": {
          "base_uri": "https://localhost:8080/",
          "height": 424
        },
        "id": "TI-lPm9ru-cQ",
        "outputId": "7c927b90-e214-4e48-a306-bffd646f70ff"
      },
      "execution_count": 176,
      "outputs": [
        {
          "output_type": "display_data",
          "data": {
            "text/plain": [
              "                  Company Valuation ($B) Date Joined        Country  \\\n",
              "0               ByteDance           $140    4/7/2017          China   \n",
              "1                  SpaceX           $127   12/1/2012  United States   \n",
              "2                   SHEIN           $100    7/3/2018          China   \n",
              "3                  Stripe            $95   1/23/2014  United States   \n",
              "4                   Canva            $40    1/8/2018      Australia   \n",
              "...                   ...            ...         ...            ...   \n",
              "1181          LeadSquared             $1   6/21/2022          India   \n",
              "1182            FourKites             $1   6/21/2022  United States   \n",
              "1183          VulcanForms             $1    7/5/2022  United States   \n",
              "1184          SingleStore             $1   7/12/2022  United States   \n",
              "1185  Unstoppable Domains             $1   7/27/2022  United States   \n",
              "\n",
              "              City                              Industry  \\\n",
              "0           Beijing              Artificial intelligence   \n",
              "1         Hawthorne                                Other   \n",
              "2          Shenzhen      E-commerce & direct-to-consumer   \n",
              "3     San Francisco                              Fintech   \n",
              "4       Surry Hills         Internet software & services   \n",
              "...             ...                                  ...   \n",
              "1181      Bengaluru         Internet software & services   \n",
              "1182        Chicago  Supply chain, logistics, & delivery   \n",
              "1183     Burlington  Supply chain, logistics, & delivery   \n",
              "1184  San Francisco          Data management & analytics   \n",
              "1185      Las Vegas         Internet software & services   \n",
              "\n",
              "                                              Investors  \n",
              "0     Sequoia Capital China, SIG Asia Investments, S...  \n",
              "1     Founders Fund, Draper Fisher Jurvetson, Rothen...  \n",
              "2     Tiger Global Management, Sequoia Capital China...  \n",
              "3           Khosla Ventures, LowercaseCapital, capitalG  \n",
              "4     Sequoia Capital China, Blackbird Ventures, Mat...  \n",
              "...                                                 ...  \n",
              "1181  Gaja Capital Partners, Stakeboat Capital, West...  \n",
              "1182  Hyde Park Venture Partners, Bain Capital Ventu...  \n",
              "1183  Eclipse Ventures, D1 Capital Partners, Industr...  \n",
              "1184            Google Ventures, Accel, Data Collective  \n",
              "1185              Boost VC, Draper Associates, Gaingels  \n",
              "\n",
              "[1186 rows x 7 columns]"
            ],
            "text/html": [
              "\n",
              "  <div id=\"df-d02fd492-9e22-466f-93a7-618cbf0ab94d\">\n",
              "    <div class=\"colab-df-container\">\n",
              "      <div>\n",
              "<style scoped>\n",
              "    .dataframe tbody tr th:only-of-type {\n",
              "        vertical-align: middle;\n",
              "    }\n",
              "\n",
              "    .dataframe tbody tr th {\n",
              "        vertical-align: top;\n",
              "    }\n",
              "\n",
              "    .dataframe thead th {\n",
              "        text-align: right;\n",
              "    }\n",
              "</style>\n",
              "<table border=\"1\" class=\"dataframe\">\n",
              "  <thead>\n",
              "    <tr style=\"text-align: right;\">\n",
              "      <th></th>\n",
              "      <th>Company</th>\n",
              "      <th>Valuation ($B)</th>\n",
              "      <th>Date Joined</th>\n",
              "      <th>Country</th>\n",
              "      <th>City</th>\n",
              "      <th>Industry</th>\n",
              "      <th>Investors</th>\n",
              "    </tr>\n",
              "  </thead>\n",
              "  <tbody>\n",
              "    <tr>\n",
              "      <th>0</th>\n",
              "      <td>ByteDance</td>\n",
              "      <td>$140</td>\n",
              "      <td>4/7/2017</td>\n",
              "      <td>China</td>\n",
              "      <td>Beijing</td>\n",
              "      <td>Artificial intelligence</td>\n",
              "      <td>Sequoia Capital China, SIG Asia Investments, S...</td>\n",
              "    </tr>\n",
              "    <tr>\n",
              "      <th>1</th>\n",
              "      <td>SpaceX</td>\n",
              "      <td>$127</td>\n",
              "      <td>12/1/2012</td>\n",
              "      <td>United States</td>\n",
              "      <td>Hawthorne</td>\n",
              "      <td>Other</td>\n",
              "      <td>Founders Fund, Draper Fisher Jurvetson, Rothen...</td>\n",
              "    </tr>\n",
              "    <tr>\n",
              "      <th>2</th>\n",
              "      <td>SHEIN</td>\n",
              "      <td>$100</td>\n",
              "      <td>7/3/2018</td>\n",
              "      <td>China</td>\n",
              "      <td>Shenzhen</td>\n",
              "      <td>E-commerce &amp; direct-to-consumer</td>\n",
              "      <td>Tiger Global Management, Sequoia Capital China...</td>\n",
              "    </tr>\n",
              "    <tr>\n",
              "      <th>3</th>\n",
              "      <td>Stripe</td>\n",
              "      <td>$95</td>\n",
              "      <td>1/23/2014</td>\n",
              "      <td>United States</td>\n",
              "      <td>San Francisco</td>\n",
              "      <td>Fintech</td>\n",
              "      <td>Khosla Ventures, LowercaseCapital, capitalG</td>\n",
              "    </tr>\n",
              "    <tr>\n",
              "      <th>4</th>\n",
              "      <td>Canva</td>\n",
              "      <td>$40</td>\n",
              "      <td>1/8/2018</td>\n",
              "      <td>Australia</td>\n",
              "      <td>Surry Hills</td>\n",
              "      <td>Internet software &amp; services</td>\n",
              "      <td>Sequoia Capital China, Blackbird Ventures, Mat...</td>\n",
              "    </tr>\n",
              "    <tr>\n",
              "      <th>...</th>\n",
              "      <td>...</td>\n",
              "      <td>...</td>\n",
              "      <td>...</td>\n",
              "      <td>...</td>\n",
              "      <td>...</td>\n",
              "      <td>...</td>\n",
              "      <td>...</td>\n",
              "    </tr>\n",
              "    <tr>\n",
              "      <th>1181</th>\n",
              "      <td>LeadSquared</td>\n",
              "      <td>$1</td>\n",
              "      <td>6/21/2022</td>\n",
              "      <td>India</td>\n",
              "      <td>Bengaluru</td>\n",
              "      <td>Internet software &amp; services</td>\n",
              "      <td>Gaja Capital Partners, Stakeboat Capital, West...</td>\n",
              "    </tr>\n",
              "    <tr>\n",
              "      <th>1182</th>\n",
              "      <td>FourKites</td>\n",
              "      <td>$1</td>\n",
              "      <td>6/21/2022</td>\n",
              "      <td>United States</td>\n",
              "      <td>Chicago</td>\n",
              "      <td>Supply chain, logistics, &amp; delivery</td>\n",
              "      <td>Hyde Park Venture Partners, Bain Capital Ventu...</td>\n",
              "    </tr>\n",
              "    <tr>\n",
              "      <th>1183</th>\n",
              "      <td>VulcanForms</td>\n",
              "      <td>$1</td>\n",
              "      <td>7/5/2022</td>\n",
              "      <td>United States</td>\n",
              "      <td>Burlington</td>\n",
              "      <td>Supply chain, logistics, &amp; delivery</td>\n",
              "      <td>Eclipse Ventures, D1 Capital Partners, Industr...</td>\n",
              "    </tr>\n",
              "    <tr>\n",
              "      <th>1184</th>\n",
              "      <td>SingleStore</td>\n",
              "      <td>$1</td>\n",
              "      <td>7/12/2022</td>\n",
              "      <td>United States</td>\n",
              "      <td>San Francisco</td>\n",
              "      <td>Data management &amp; analytics</td>\n",
              "      <td>Google Ventures, Accel, Data Collective</td>\n",
              "    </tr>\n",
              "    <tr>\n",
              "      <th>1185</th>\n",
              "      <td>Unstoppable Domains</td>\n",
              "      <td>$1</td>\n",
              "      <td>7/27/2022</td>\n",
              "      <td>United States</td>\n",
              "      <td>Las Vegas</td>\n",
              "      <td>Internet software &amp; services</td>\n",
              "      <td>Boost VC, Draper Associates, Gaingels</td>\n",
              "    </tr>\n",
              "  </tbody>\n",
              "</table>\n",
              "<p>1186 rows × 7 columns</p>\n",
              "</div>\n",
              "      <button class=\"colab-df-convert\" onclick=\"convertToInteractive('df-d02fd492-9e22-466f-93a7-618cbf0ab94d')\"\n",
              "              title=\"Convert this dataframe to an interactive table.\"\n",
              "              style=\"display:none;\">\n",
              "        \n",
              "  <svg xmlns=\"http://www.w3.org/2000/svg\" height=\"24px\"viewBox=\"0 0 24 24\"\n",
              "       width=\"24px\">\n",
              "    <path d=\"M0 0h24v24H0V0z\" fill=\"none\"/>\n",
              "    <path d=\"M18.56 5.44l.94 2.06.94-2.06 2.06-.94-2.06-.94-.94-2.06-.94 2.06-2.06.94zm-11 1L8.5 8.5l.94-2.06 2.06-.94-2.06-.94L8.5 2.5l-.94 2.06-2.06.94zm10 10l.94 2.06.94-2.06 2.06-.94-2.06-.94-.94-2.06-.94 2.06-2.06.94z\"/><path d=\"M17.41 7.96l-1.37-1.37c-.4-.4-.92-.59-1.43-.59-.52 0-1.04.2-1.43.59L10.3 9.45l-7.72 7.72c-.78.78-.78 2.05 0 2.83L4 21.41c.39.39.9.59 1.41.59.51 0 1.02-.2 1.41-.59l7.78-7.78 2.81-2.81c.8-.78.8-2.07 0-2.86zM5.41 20L4 18.59l7.72-7.72 1.47 1.35L5.41 20z\"/>\n",
              "  </svg>\n",
              "      </button>\n",
              "      \n",
              "  <style>\n",
              "    .colab-df-container {\n",
              "      display:flex;\n",
              "      flex-wrap:wrap;\n",
              "      gap: 12px;\n",
              "    }\n",
              "\n",
              "    .colab-df-convert {\n",
              "      background-color: #E8F0FE;\n",
              "      border: none;\n",
              "      border-radius: 50%;\n",
              "      cursor: pointer;\n",
              "      display: none;\n",
              "      fill: #1967D2;\n",
              "      height: 32px;\n",
              "      padding: 0 0 0 0;\n",
              "      width: 32px;\n",
              "    }\n",
              "\n",
              "    .colab-df-convert:hover {\n",
              "      background-color: #E2EBFA;\n",
              "      box-shadow: 0px 1px 2px rgba(60, 64, 67, 0.3), 0px 1px 3px 1px rgba(60, 64, 67, 0.15);\n",
              "      fill: #174EA6;\n",
              "    }\n",
              "\n",
              "    [theme=dark] .colab-df-convert {\n",
              "      background-color: #3B4455;\n",
              "      fill: #D2E3FC;\n",
              "    }\n",
              "\n",
              "    [theme=dark] .colab-df-convert:hover {\n",
              "      background-color: #434B5C;\n",
              "      box-shadow: 0px 1px 3px 1px rgba(0, 0, 0, 0.15);\n",
              "      filter: drop-shadow(0px 1px 2px rgba(0, 0, 0, 0.3));\n",
              "      fill: #FFFFFF;\n",
              "    }\n",
              "  </style>\n",
              "\n",
              "      <script>\n",
              "        const buttonEl =\n",
              "          document.querySelector('#df-d02fd492-9e22-466f-93a7-618cbf0ab94d button.colab-df-convert');\n",
              "        buttonEl.style.display =\n",
              "          google.colab.kernel.accessAllowed ? 'block' : 'none';\n",
              "\n",
              "        async function convertToInteractive(key) {\n",
              "          const element = document.querySelector('#df-d02fd492-9e22-466f-93a7-618cbf0ab94d');\n",
              "          const dataTable =\n",
              "            await google.colab.kernel.invokeFunction('convertToInteractive',\n",
              "                                                     [key], {});\n",
              "          if (!dataTable) return;\n",
              "\n",
              "          const docLinkHtml = 'Like what you see? Visit the ' +\n",
              "            '<a target=\"_blank\" href=https://colab.research.google.com/notebooks/data_table.ipynb>data table notebook</a>'\n",
              "            + ' to learn more about interactive tables.';\n",
              "          element.innerHTML = '';\n",
              "          dataTable['output_type'] = 'display_data';\n",
              "          await google.colab.output.renderOutput(dataTable, element);\n",
              "          const docLink = document.createElement('div');\n",
              "          docLink.innerHTML = docLinkHtml;\n",
              "          element.appendChild(docLink);\n",
              "        }\n",
              "      </script>\n",
              "    </div>\n",
              "  </div>\n",
              "  "
            ]
          },
          "metadata": {}
        }
      ]
    },
    {
      "cell_type": "markdown",
      "source": [
        "\n",
        "Ao ler a base de dados podemos perceber que ela é organizada pelo nome da empresa, quanto a empresa custa, a data que ela se tornou um unicórnio, o páis e a cidade de origem da empresa, a indústria a qual ela pertence e os investidores."
      ],
      "metadata": {
        "id": "5y4blSYax4pT"
      }
    },
    {
      "cell_type": "code",
      "source": [
        "# Verificando a dimensão da base de dados\n",
        "df.shape"
      ],
      "metadata": {
        "colab": {
          "base_uri": "https://localhost:8080/"
        },
        "id": "9ylxTm_BvIB-",
        "outputId": "208118df-eb27-4179-91d0-1686030c65fc"
      },
      "execution_count": 177,
      "outputs": [
        {
          "output_type": "execute_result",
          "data": {
            "text/plain": [
              "(1186, 7)"
            ]
          },
          "metadata": {},
          "execution_count": 177
        }
      ]
    },
    {
      "cell_type": "markdown",
      "source": [
        "A dimensão da nossa base de dados é 1186 linhas por 7 colunas"
      ],
      "metadata": {
        "id": "oBWy5AbEycQP"
      }
    },
    {
      "cell_type": "code",
      "source": [
        "# Renomeando as colunas (Deixando em Português)\n",
        "\n",
        "df.rename(\n",
        "    columns={\n",
        "        'Company' : 'empresa',\n",
        "        'Valuation ($B)': 'valor($)',\n",
        "        'Date Joined': 'data',\n",
        "        'Country': 'pais',\n",
        "         'City\\xa0' :'cidade',\n",
        "        'Industry': 'setor',\n",
        "        'Investors':'investidores'\n",
        "    }, inplace = True\n",
        ")"
      ],
      "metadata": {
        "id": "5_Wtc1bavpT9"
      },
      "execution_count": 178,
      "outputs": []
    },
    {
      "cell_type": "code",
      "source": [
        "# Verificando os tipos de dados\n",
        "df.info()"
      ],
      "metadata": {
        "id": "JoW25FPJwphS",
        "colab": {
          "base_uri": "https://localhost:8080/"
        },
        "outputId": "dac78987-8627-4042-8075-a5abf268a515"
      },
      "execution_count": 179,
      "outputs": [
        {
          "output_type": "stream",
          "name": "stdout",
          "text": [
            "<class 'pandas.core.frame.DataFrame'>\n",
            "RangeIndex: 1186 entries, 0 to 1185\n",
            "Data columns (total 7 columns):\n",
            " #   Column        Non-Null Count  Dtype \n",
            "---  ------        --------------  ----- \n",
            " 0   empresa       1186 non-null   object\n",
            " 1   valor($)      1186 non-null   object\n",
            " 2   data          1186 non-null   object\n",
            " 3   pais          1186 non-null   object\n",
            " 4   cidade        1186 non-null   object\n",
            " 5   setor         1186 non-null   object\n",
            " 6   investidores  1168 non-null   object\n",
            "dtypes: object(7)\n",
            "memory usage: 65.0+ KB\n"
          ]
        }
      ]
    },
    {
      "cell_type": "markdown",
      "source": [
        "Ao verificarmos os tipos de dados em cada coluna podemos perceber que as colunas valor e data estão sendo lidas como 'Object', isto é, como uma string. Entretanto, esse não é o tipo de dado desejado para a nossa análise."
      ],
      "metadata": {
        "id": "2w2VZtBgymn4"
      }
    },
    {
      "cell_type": "code",
      "source": [
        "# Convertendo Dados\n",
        "df['data'] = pd.to_datetime(df['data'])\n",
        "df.info()"
      ],
      "metadata": {
        "colab": {
          "base_uri": "https://localhost:8080/"
        },
        "id": "jUqS-z1NtSJL",
        "outputId": "3636159e-9e28-4776-f758-5665c63d8b89"
      },
      "execution_count": 180,
      "outputs": [
        {
          "output_type": "stream",
          "name": "stdout",
          "text": [
            "<class 'pandas.core.frame.DataFrame'>\n",
            "RangeIndex: 1186 entries, 0 to 1185\n",
            "Data columns (total 7 columns):\n",
            " #   Column        Non-Null Count  Dtype         \n",
            "---  ------        --------------  -----         \n",
            " 0   empresa       1186 non-null   object        \n",
            " 1   valor($)      1186 non-null   object        \n",
            " 2   data          1186 non-null   datetime64[ns]\n",
            " 3   pais          1186 non-null   object        \n",
            " 4   cidade        1186 non-null   object        \n",
            " 5   setor         1186 non-null   object        \n",
            " 6   investidores  1168 non-null   object        \n",
            "dtypes: datetime64[ns](1), object(6)\n",
            "memory usage: 65.0+ KB\n"
          ]
        }
      ]
    },
    {
      "cell_type": "code",
      "source": [
        "# Convertendo Dados\n",
        "df['data'] = pd.to_datetime(df['data'])\n",
        "df.info()"
      ],
      "metadata": {
        "colab": {
          "base_uri": "https://localhost:8080/"
        },
        "outputId": "2dd37905-12f2-4855-e563-5b21b765699c",
        "id": "0RGSryHewtpG"
      },
      "execution_count": 181,
      "outputs": [
        {
          "output_type": "stream",
          "name": "stdout",
          "text": [
            "<class 'pandas.core.frame.DataFrame'>\n",
            "RangeIndex: 1186 entries, 0 to 1185\n",
            "Data columns (total 7 columns):\n",
            " #   Column        Non-Null Count  Dtype         \n",
            "---  ------        --------------  -----         \n",
            " 0   empresa       1186 non-null   object        \n",
            " 1   valor($)      1186 non-null   object        \n",
            " 2   data          1186 non-null   datetime64[ns]\n",
            " 3   pais          1186 non-null   object        \n",
            " 4   cidade        1186 non-null   object        \n",
            " 5   setor         1186 non-null   object        \n",
            " 6   investidores  1168 non-null   object        \n",
            "dtypes: datetime64[ns](1), object(6)\n",
            "memory usage: 65.0+ KB\n"
          ]
        }
      ]
    },
    {
      "cell_type": "markdown",
      "source": [
        "Agora falta apenas tratar o tipo de dado da coluna valor, que é um número."
      ],
      "metadata": {
        "id": "AbsbExomvFV0"
      }
    },
    {
      "cell_type": "code",
      "source": [
        "# convertendo a coluna de valores para float\n",
        "df['valor($)'] = [float(i.replace('$','')) for i in df['valor($)'] ]\n",
        "df['valor($)']"
      ],
      "metadata": {
        "colab": {
          "base_uri": "https://localhost:8080/"
        },
        "id": "Dka7Iashw78I",
        "outputId": "ca641a32-15e7-4f59-b180-b3cdd36710ca"
      },
      "execution_count": 182,
      "outputs": [
        {
          "output_type": "execute_result",
          "data": {
            "text/plain": [
              "0       140.0\n",
              "1       127.0\n",
              "2       100.0\n",
              "3        95.0\n",
              "4        40.0\n",
              "        ...  \n",
              "1181      1.0\n",
              "1182      1.0\n",
              "1183      1.0\n",
              "1184      1.0\n",
              "1185      1.0\n",
              "Name: valor($), Length: 1186, dtype: float64"
            ]
          },
          "metadata": {},
          "execution_count": 182
        }
      ]
    },
    {
      "cell_type": "markdown",
      "source": [
        "Uma vez que já tratamos nossos dados, vamos verificar se é necessário realizar a limpeza da nossa base de dados, isto é, verificar se há campos vazios e, caso houver, se eles atrapalhariam na nossa análise ou não."
      ],
      "metadata": {
        "id": "DAZl_W6QxmRs"
      }
    },
    {
      "cell_type": "code",
      "source": [
        "# Verificando se há muitas informações em falta ( Campos nulos)\n",
        "\n",
        "df.isnull().sum()"
      ],
      "metadata": {
        "colab": {
          "base_uri": "https://localhost:8080/"
        },
        "id": "p5XduQQTzrIu",
        "outputId": "c5333bc1-c5a7-467f-b88e-e6d09c1fd1f8"
      },
      "execution_count": 183,
      "outputs": [
        {
          "output_type": "execute_result",
          "data": {
            "text/plain": [
              "empresa          0\n",
              "valor($)         0\n",
              "data             0\n",
              "pais             0\n",
              "cidade           0\n",
              "setor            0\n",
              "investidores    18\n",
              "dtype: int64"
            ]
          },
          "metadata": {},
          "execution_count": 183
        }
      ]
    },
    {
      "cell_type": "markdown",
      "source": [
        "Perceba que usamos a função 'isnull' para verificar se há dados nulos e depois aplicamos a função 'sum' que soma e mostra onde estão os dados nulos, caso existam. Assim, vimos que apenas a coluna investidores tem dados nulos e esses somam 18."
      ],
      "metadata": {
        "id": "TZioX8MDz59S"
      }
    },
    {
      "cell_type": "code",
      "source": [
        "# Observando dados nulos em um mapa de calor\n",
        "plt.figure(figsize=(15,6))\n",
        "plt.title('Analisando Campos Nulos')\n",
        "sns.heatmap(df.isnull(), cbar=False);"
      ],
      "metadata": {
        "colab": {
          "base_uri": "https://localhost:8080/",
          "height": 390
        },
        "id": "_wE5DAAGz3Ip",
        "outputId": "f3222cc5-56c6-4959-f1bf-cf3018e34ad9"
      },
      "execution_count": 184,
      "outputs": [
        {
          "output_type": "display_data",
          "data": {
            "text/plain": [
              "<Figure size 1080x432 with 1 Axes>"
            ],
            "image/png": "[encoded data removed]"
          },
          "metadata": {
            "needs_background": "light"
          }
        }
      ]
    },
    {
      "cell_type": "code",
      "source": [
        "# Verificando valores únicos\n",
        "df.nunique()"
      ],
      "metadata": {
        "colab": {
          "base_uri": "https://localhost:8080/"
        },
        "id": "DC6dyRdJ0tNh",
        "outputId": "85ab90a4-dff8-4d0d-81be-4f8968fc825e"
      },
      "execution_count": 185,
      "outputs": [
        {
          "output_type": "execute_result",
          "data": {
            "text/plain": [
              "empresa         1183\n",
              "valor($)         222\n",
              "data             695\n",
              "pais              48\n",
              "cidade           286\n",
              "setor             34\n",
              "investidores    1152\n",
              "dtype: int64"
            ]
          },
          "metadata": {},
          "execution_count": 185
        }
      ]
    },
    {
      "cell_type": "code",
      "source": [
        "# Visualizando Rank dos Setores mais presentes nos Unicornios\n",
        "df['setor'].value_counts()"
      ],
      "metadata": {
        "colab": {
          "base_uri": "https://localhost:8080/"
        },
        "id": "VKnGe5ID1k9U",
        "outputId": "cc4d2d39-c811-4b36-e841-eb3eb3766f14"
      },
      "execution_count": 186,
      "outputs": [
        {
          "output_type": "execute_result",
          "data": {
            "text/plain": [
              "Fintech                                                               239\n",
              "Internet software & services                                          224\n",
              "E-commerce & direct-to-consumer                                       103\n",
              "Health                                                                 94\n",
              "Artificial intelligence                                                74\n",
              "Supply chain, logistics, & delivery                                    65\n",
              "Other                                                                  65\n",
              "Cybersecurity                                                          58\n",
              "Data management & analytics                                            45\n",
              "Auto & transportation                                                  40\n",
              "Hardware                                                               38\n",
              "Mobile & telecommunications                                            37\n",
              "Edtech                                                                 32\n",
              "Consumer & retail                                                      28\n",
              "Travel                                                                 14\n",
              "Artificial Intelligence                                                11\n",
              "Internet                                                                2\n",
              "Sequoia Capital China, ING, Alibaba Entrepreneurs Fund                  1\n",
              "Andreessen Horowitz, DST Global, IDG Capital                            1\n",
              "B Capital Group, Monk's Hill Ventures, Dynamic Parcel Distribution      1\n",
              "Vertex Ventures SE Asia, Global Founders Capital, Visa Ventures         1\n",
              "Mundi Ventures, Doqling Capital Partners, Activant Capital              1\n",
              "SingTel Innov8, Alpha JWC Ventures, Golden Gate Ventures                1\n",
              "Dragonfly Captial, Qiming Venture Partners, DST Global                  1\n",
              "Sequoia Capital China, Shunwei Capital Partners, Qualgro                1\n",
              "Tiger Global Management, Tiger Brokers, DCM Ventures                    1\n",
              "500 Global, Rakuten Ventures, Golden Gate Ventures                      1\n",
              "Hopu Investment Management, Boyu Capital, DC Thomson Ventures           1\n",
              "Vision Plus Capital, GSR Ventures, ZhenFund                             1\n",
              "GIC. Apis Partners, Insight Partners                                    1\n",
              "Jungle Ventures, Accel, Venture Highway                                 1\n",
              "Kuang-Chi                                                               1\n",
              "Sequoia Capital, Thoma Bravo, Softbank                                  1\n",
              "Temasek, Guggenheim Investments, Qatar Investment Authority             1\n",
              "Name: setor, dtype: int64"
            ]
          },
          "metadata": {},
          "execution_count": 186
        }
      ]
    },
    {
      "cell_type": "markdown",
      "source": [
        "Extraímos disso, que o top 3 dos setores mundiais que mais tem unicórnio são as FinTechs, Internet software & services e E-commerce. Podemos ainda verificar essa informação por meio de porcentagens usando o parâmetro 'Normalize'"
      ],
      "metadata": {
        "id": "mc4S-PTI2zyZ"
      }
    },
    {
      "cell_type": "code",
      "source": [
        "# Visualizando Rank dos Setores %\n",
        "df['setor'].value_counts(normalize=True).head()\n"
      ],
      "metadata": {
        "id": "oVaxElxx13lJ",
        "colab": {
          "base_uri": "https://localhost:8080/"
        },
        "outputId": "3ab87a9c-f2f0-447c-cba6-8e5a955f936c"
      },
      "execution_count": 187,
      "outputs": [
        {
          "output_type": "execute_result",
          "data": {
            "text/plain": [
              "Fintech                            0.201518\n",
              "Internet software & services       0.188870\n",
              "E-commerce & direct-to-consumer    0.086847\n",
              "Health                             0.079258\n",
              "Artificial intelligence            0.062395\n",
              "Name: setor, dtype: float64"
            ]
          },
          "metadata": {},
          "execution_count": 187
        }
      ]
    },
    {
      "cell_type": "markdown",
      "source": [
        "Agora conseguimos observar que o top 3 mencionado anteriormente ocupa cerca de 47% do rank mundial. Para ficar mais apresentável, vamos expor os 10 setores que mais geram unicórnios."
      ],
      "metadata": {
        "id": "EjVHs_ji3XrA"
      }
    },
    {
      "cell_type": "code",
      "source": [
        "# Visualizando setores em gráficos de Pizza\n",
        "setores = df['setor'].value_counts(normalize=True) *100 \n",
        "plt.figure(figsize=(15,6))\n",
        "plt.title('Os 10 setores que mais geram unicórnios')\n",
        "plt.pie(\n",
        "    setores.head(10),\n",
        "    labels = setores.index[0:10],\n",
        "    shadow= True,\n",
        "    startangle=90,\n",
        "    autopct='%1.1f%%'\n",
        "    );"
      ],
      "metadata": {
        "colab": {
          "base_uri": "https://localhost:8080/",
          "height": 373
        },
        "id": "TtPxwRZF3QrW",
        "outputId": "d4447be2-8738-4b0d-9ac2-fca7839e6f2a"
      },
      "execution_count": 188,
      "outputs": [
        {
          "output_type": "display_data",
          "data": {
            "text/plain": [
              "<Figure size 1080x432 with 1 Axes>"
            ],
            "image/png": "[encoded data removed]"
          },
          "metadata": {}
        }
      ]
    },
    {
      "cell_type": "markdown",
      "source": [
        "Ficou bem mais interessante a visualização desse modo. Outra informação que é relevante e que também é importante ver desse mesmo ponto de vista é qual país mais gera unicórnios."
      ],
      "metadata": {
        "id": "JjkUY_5S6wwh"
      }
    },
    {
      "cell_type": "code",
      "source": [
        "# Analisando quais paises mais geram unicórnios\n",
        "\n",
        "paises = df['pais'].value_counts(normalize=True) *100 \n",
        "plt.figure(figsize=(15,6))\n",
        "plt.title('Os 5 Paises que mais geram unicórnios')\n",
        "plt.pie(\n",
        "    paises.head(),\n",
        "    labels = paises.index[0:5],\n",
        "    shadow= True,\n",
        "    startangle=90,\n",
        "    autopct='%1.1f%%'\n",
        "    );"
      ],
      "metadata": {
        "colab": {
          "base_uri": "https://localhost:8080/",
          "height": 373
        },
        "id": "xXTVh3iV5J1e",
        "outputId": "55f3d0cb-2f6e-4a5c-dd96-d0362b30d979"
      },
      "execution_count": 189,
      "outputs": [
        {
          "output_type": "display_data",
          "data": {
            "text/plain": [
              "<Figure size 1080x432 with 1 Axes>"
            ],
            "image/png": "[encoded data removed]"
          },
          "metadata": {}
        }
      ]
    },
    {
      "cell_type": "markdown",
      "source": [
        "Disso conseguimos perceber que os Estados Unidos é o pais que mais gera unicórnios no mundo. Perceba que o Brasil não aparece entre os 5 primeiros. Assim, é pertinente para uma empresa nacional saber em qual colocação o Brasil está."
      ],
      "metadata": {
        "id": "5WrgDDkQ7YqC"
      }
    },
    {
      "cell_type": "code",
      "source": [
        "# Procurando a posição do Ranking que o Brasil está\n",
        "rank = df['pais'].value_counts()\n",
        "for i,j in enumerate(rank.index):\n",
        "  if j == 'Brazil':\n",
        "    print(f'A colocação do {j} é {i+1}') "
      ],
      "metadata": {
        "colab": {
          "base_uri": "https://localhost:8080/"
        },
        "id": "QAnJnWN27K6h",
        "outputId": "b27ff24c-f1e0-426b-c6b0-d65fa3dad81c"
      },
      "execution_count": 190,
      "outputs": [
        {
          "output_type": "stream",
          "name": "stdout",
          "text": [
            "A colocação do Brazil é 9\n"
          ]
        }
      ]
    },
    {
      "cell_type": "markdown",
      "source": [
        "Ou seja, o Brasil é o nono país que mais gera StartUps Unicónios.\n",
        "Já descobrimos que o setor mais lucrativo (ou que gera mais unicórnios) é o de Fintech e descobrimos também que o pais que mais possui unicórnios é o estados unidos. Vamos descobrir, por meio de análise, quanto vale o setor de FinTech e os Estados Unidos."
      ],
      "metadata": {
        "id": "oNkCStSnxBge"
      }
    },
    {
      "cell_type": "code",
      "source": [
        "# Analisando a valuation em cada país.\n",
        "analise_paises = df.groupby(by=['pais']).sum()['valor($)'].reset_index()\n",
        "analise_paises = analise_paises.sort_values('valor($)', ascending=False)\n",
        "analise_paises.head(10)"
      ],
      "metadata": {
        "colab": {
          "base_uri": "https://localhost:8080/",
          "height": 363
        },
        "id": "-ueShx-qxd-p",
        "outputId": "3373ba4b-8205-4222-bac8-c35f48b3d3c5"
      },
      "execution_count": 191,
      "outputs": [
        {
          "output_type": "execute_result",
          "data": {
            "text/plain": [
              "              pais  valor($)\n",
              "46   United States   2069.89\n",
              "9            China    678.59\n",
              "45  United Kingdom    205.45\n",
              "20           India    202.92\n",
              "18         Germany     80.88\n",
              "17          France     58.42\n",
              "1        Australia     54.40\n",
              "7           Canada     49.23\n",
              "23          Israel     48.02\n",
              "6           Brazil     40.08"
            ],
            "text/html": [
              "\n",
              "  <div id=\"df-f8a7e070-8a74-4641-802d-b4b77accb174\">\n",
              "    <div class=\"colab-df-container\">\n",
              "      <div>\n",
              "<style scoped>\n",
              "    .dataframe tbody tr th:only-of-type {\n",
              "        vertical-align: middle;\n",
              "    }\n",
              "\n",
              "    .dataframe tbody tr th {\n",
              "        vertical-align: top;\n",
              "    }\n",
              "\n",
              "    .dataframe thead th {\n",
              "        text-align: right;\n",
              "    }\n",
              "</style>\n",
              "<table border=\"1\" class=\"dataframe\">\n",
              "  <thead>\n",
              "    <tr style=\"text-align: right;\">\n",
              "      <th></th>\n",
              "      <th>pais</th>\n",
              "      <th>valor($)</th>\n",
              "    </tr>\n",
              "  </thead>\n",
              "  <tbody>\n",
              "    <tr>\n",
              "      <th>46</th>\n",
              "      <td>United States</td>\n",
              "      <td>2069.89</td>\n",
              "    </tr>\n",
              "    <tr>\n",
              "      <th>9</th>\n",
              "      <td>China</td>\n",
              "      <td>678.59</td>\n",
              "    </tr>\n",
              "    <tr>\n",
              "      <th>45</th>\n",
              "      <td>United Kingdom</td>\n",
              "      <td>205.45</td>\n",
              "    </tr>\n",
              "    <tr>\n",
              "      <th>20</th>\n",
              "      <td>India</td>\n",
              "      <td>202.92</td>\n",
              "    </tr>\n",
              "    <tr>\n",
              "      <th>18</th>\n",
              "      <td>Germany</td>\n",
              "      <td>80.88</td>\n",
              "    </tr>\n",
              "    <tr>\n",
              "      <th>17</th>\n",
              "      <td>France</td>\n",
              "      <td>58.42</td>\n",
              "    </tr>\n",
              "    <tr>\n",
              "      <th>1</th>\n",
              "      <td>Australia</td>\n",
              "      <td>54.40</td>\n",
              "    </tr>\n",
              "    <tr>\n",
              "      <th>7</th>\n",
              "      <td>Canada</td>\n",
              "      <td>49.23</td>\n",
              "    </tr>\n",
              "    <tr>\n",
              "      <th>23</th>\n",
              "      <td>Israel</td>\n",
              "      <td>48.02</td>\n",
              "    </tr>\n",
              "    <tr>\n",
              "      <th>6</th>\n",
              "      <td>Brazil</td>\n",
              "      <td>40.08</td>\n",
              "    </tr>\n",
              "  </tbody>\n",
              "</table>\n",
              "</div>\n",
              "      <button class=\"colab-df-convert\" onclick=\"convertToInteractive('df-f8a7e070-8a74-4641-802d-b4b77accb174')\"\n",
              "              title=\"Convert this dataframe to an interactive table.\"\n",
              "              style=\"display:none;\">\n",
              "        \n",
              "  <svg xmlns=\"http://www.w3.org/2000/svg\" height=\"24px\"viewBox=\"0 0 24 24\"\n",
              "       width=\"24px\">\n",
              "    <path d=\"M0 0h24v24H0V0z\" fill=\"none\"/>\n",
              "    <path d=\"M18.56 5.44l.94 2.06.94-2.06 2.06-.94-2.06-.94-.94-2.06-.94 2.06-2.06.94zm-11 1L8.5 8.5l.94-2.06 2.06-.94-2.06-.94L8.5 2.5l-.94 2.06-2.06.94zm10 10l.94 2.06.94-2.06 2.06-.94-2.06-.94-.94-2.06-.94 2.06-2.06.94z\"/><path d=\"M17.41 7.96l-1.37-1.37c-.4-.4-.92-.59-1.43-.59-.52 0-1.04.2-1.43.59L10.3 9.45l-7.72 7.72c-.78.78-.78 2.05 0 2.83L4 21.41c.39.39.9.59 1.41.59.51 0 1.02-.2 1.41-.59l7.78-7.78 2.81-2.81c.8-.78.8-2.07 0-2.86zM5.41 20L4 18.59l7.72-7.72 1.47 1.35L5.41 20z\"/>\n",
              "  </svg>\n",
              "      </button>\n",
              "      \n",
              "  <style>\n",
              "    .colab-df-container {\n",
              "      display:flex;\n",
              "      flex-wrap:wrap;\n",
              "      gap: 12px;\n",
              "    }\n",
              "\n",
              "    .colab-df-convert {\n",
              "      background-color: #E8F0FE;\n",
              "      border: none;\n",
              "      border-radius: 50%;\n",
              "      cursor: pointer;\n",
              "      display: none;\n",
              "      fill: #1967D2;\n",
              "      height: 32px;\n",
              "      padding: 0 0 0 0;\n",
              "      width: 32px;\n",
              "    }\n",
              "\n",
              "    .colab-df-convert:hover {\n",
              "      background-color: #E2EBFA;\n",
              "      box-shadow: 0px 1px 2px rgba(60, 64, 67, 0.3), 0px 1px 3px 1px rgba(60, 64, 67, 0.15);\n",
              "      fill: #174EA6;\n",
              "    }\n",
              "\n",
              "    [theme=dark] .colab-df-convert {\n",
              "      background-color: #3B4455;\n",
              "      fill: #D2E3FC;\n",
              "    }\n",
              "\n",
              "    [theme=dark] .colab-df-convert:hover {\n",
              "      background-color: #434B5C;\n",
              "      box-shadow: 0px 1px 3px 1px rgba(0, 0, 0, 0.15);\n",
              "      filter: drop-shadow(0px 1px 2px rgba(0, 0, 0, 0.3));\n",
              "      fill: #FFFFFF;\n",
              "    }\n",
              "  </style>\n",
              "\n",
              "      <script>\n",
              "        const buttonEl =\n",
              "          document.querySelector('#df-f8a7e070-8a74-4641-802d-b4b77accb174 button.colab-df-convert');\n",
              "        buttonEl.style.display =\n",
              "          google.colab.kernel.accessAllowed ? 'block' : 'none';\n",
              "\n",
              "        async function convertToInteractive(key) {\n",
              "          const element = document.querySelector('#df-f8a7e070-8a74-4641-802d-b4b77accb174');\n",
              "          const dataTable =\n",
              "            await google.colab.kernel.invokeFunction('convertToInteractive',\n",
              "                                                     [key], {});\n",
              "          if (!dataTable) return;\n",
              "\n",
              "          const docLinkHtml = 'Like what you see? Visit the ' +\n",
              "            '<a target=\"_blank\" href=https://colab.research.google.com/notebooks/data_table.ipynb>data table notebook</a>'\n",
              "            + ' to learn more about interactive tables.';\n",
              "          element.innerHTML = '';\n",
              "          dataTable['output_type'] = 'display_data';\n",
              "          await google.colab.output.renderOutput(dataTable, element);\n",
              "          const docLink = document.createElement('div');\n",
              "          docLink.innerHTML = docLinkHtml;\n",
              "          element.appendChild(docLink);\n",
              "        }\n",
              "      </script>\n",
              "    </div>\n",
              "  </div>\n",
              "  "
            ]
          },
          "metadata": {},
          "execution_count": 191
        }
      ]
    },
    {
      "cell_type": "code",
      "source": [
        "# Média de faturamento dos unicórnios\n",
        "analise_paises['valor($)'].mean()"
      ],
      "metadata": {
        "colab": {
          "base_uri": "https://localhost:8080/"
        },
        "id": "ZZBIYPBD9E4-",
        "outputId": "a6c54c7d-7579-4888-9017-befee0939389"
      },
      "execution_count": 199,
      "outputs": [
        {
          "output_type": "execute_result",
          "data": {
            "text/plain": [
              "80.33375"
            ]
          },
          "metadata": {},
          "execution_count": 199
        }
      ]
    },
    {
      "cell_type": "markdown",
      "source": [
        "A tabela acima mostra o top 5 de países que tem as maiores receitas geradas por unicórnios. Lembrando do gráfico de setores que fizemos anteriomente mostrava os paises que mais geram Unicórnios podemos perceber que a India é o terceiro pais na colocação, entretanto na nossa tabela ela está em quarto. Isso quer dizer que ter mais unicórnios não significa ter mais receita gerada por elas. Com isso, vamos analisar qual a colocação do Brasil em relação a receita."
      ],
      "metadata": {
        "id": "zWOJqMwhzM_Z"
      }
    },
    {
      "cell_type": "code",
      "source": [
        "# Verificando a colocação do Brasil na tabela de receitas\n",
        "for i,j in enumerate(analise_paises['pais']):\n",
        "  if j =='Brazil':\n",
        "    print(f\"A colocação do {j} é {i+1}\")"
      ],
      "metadata": {
        "colab": {
          "base_uri": "https://localhost:8080/"
        },
        "id": "Yr_-cXR9z8Qp",
        "outputId": "91050097-1bba-440b-a712-dcadda339458"
      },
      "execution_count": 192,
      "outputs": [
        {
          "output_type": "stream",
          "name": "stdout",
          "text": [
            "A colocação do Brazil é 10\n"
          ]
        }
      ]
    },
    {
      "cell_type": "markdown",
      "source": [
        "Ou seja, mesmo sendo o oitavo pais que mais tem unicórnios é o sexto país que tem maior receita por meio delas. Embora a tabela nos mostre de forma clara que os Estados Unidos tem a receita por meio de unicórnios maior que a dos outros paises, podemos esboçar isso de maneira gráfica deixando mais 'na cara' essa diferença tão absurda."
      ],
      "metadata": {
        "id": "l8M-lmvu1L0A"
      }
    },
    {
      "cell_type": "code",
      "source": [
        "# Plotando gráfico de receita dos paises\n",
        "plt.figure(figsize=(16,6))\n",
        "plt.plot(analise_paises['pais'],analise_paises['valor($)'])\n",
        "plt.title('Receita Gerada Pelos Unicórnios em Cada País')\n",
        "plt.xticks(rotation=45,ha='right');"
      ],
      "metadata": {
        "colab": {
          "base_uri": "https://localhost:8080/",
          "height": 463
        },
        "id": "4tcvYYh02ggY",
        "outputId": "aac7d243-553e-4671-b8cb-a09cde405edd"
      },
      "execution_count": 193,
      "outputs": [
        {
          "output_type": "display_data",
          "data": {
            "text/plain": [
              "<Figure size 1152x432 with 1 Axes>"
            ],
            "image/png": "[encoded data removed]"
          },
          "metadata": {
            "needs_background": "light"
          }
        }
      ]
    },
    {
      "cell_type": "markdown",
      "source": [
        "Com isso, vemos a diferença é realmente impressionante dos Estados Unidos e outros paises. "
      ],
      "metadata": {
        "id": "68URv4zJyknx"
      }
    },
    {
      "cell_type": "markdown",
      "source": [
        "# Relatório Final \n",
        "## Geral\n",
        "Por meio da nossa análise pudemos perceber que os setores que mais geram unicórnios são Fintech, Internet software & services , E-commerce & direct-to-consumer de modo que esses três setores juntos ocupam praticamente 50% do mercado. \n",
        "\n",
        "Além disso, verificamos que os estados unidos é o pais que mais gera Unicórnios totalizando, sozinho, cerca de 66% dos paises geradores de Unicórnios. Além de ser o pais que mais gera receita por meio delas de forma que seu faturamento é \n",
        "quase 26x a mais que a média de faturamento dos paises que geram unicórnios.\n",
        "\n",
        "## Nacional\n",
        "\n",
        "A nível nacional pudemos ver que o Brasil está entre o top10 dos paises que mais geram unicórnios, bem como em relação ao seu faturamento. Sendo o nono país que mais gera unicórnios e o 10 décimos pais com a maior receita gerada pelos unicórnios sendo sua receita 40.08 Bilhões"
      ],
      "metadata": {
        "id": "qunohLQ971IS"
      }
    },
    {
      "cell_type": "code",
      "source": [],
      "metadata": {
        "id": "oMhcaXxh85yi"
      },
      "execution_count": null,
      "outputs": []
    }
  ]
}